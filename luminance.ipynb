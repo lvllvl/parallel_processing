{
  "nbformat": 4,
  "nbformat_minor": 0,
  "metadata": {
    "colab": {
      "provenance": [],
      "authorship_tag": "ABX9TyNjudm7pdjhh5s6e9AaPjZU",
      "include_colab_link": true
    },
    "kernelspec": {
      "name": "python3",
      "display_name": "Python 3"
    },
    "language_info": {
      "name": "python"
    }
  },
  "cells": [
    {
      "cell_type": "markdown",
      "metadata": {
        "id": "view-in-github",
        "colab_type": "text"
      },
      "source": [
        "<a href=\"https://colab.research.google.com/github/lvllvl/parallel_processing/blob/main/luminance.ipynb\" target=\"_parent\"><img src=\"https://colab.research.google.com/assets/colab-badge.svg\" alt=\"Open In Colab\"/></a>"
      ]
    },
    {
      "cell_type": "code",
      "execution_count": 1,
      "metadata": {
        "colab": {
          "base_uri": "https://localhost:8080/"
        },
        "id": "jZtnRo1DjsMQ",
        "outputId": "8fdfbe90-94a2-42ec-9772-a8f93b9951e3"
      },
      "outputs": [
        {
          "output_type": "stream",
          "name": "stdout",
          "text": [
            "Reading package lists... Done\n",
            "Building dependency tree... Done\n",
            "Reading state information... Done\n",
            "libopencv-dev is already the newest version (4.5.4+dfsg-9ubuntu4).\n",
            "0 upgraded, 0 newly installed, 0 to remove and 16 not upgraded.\n"
          ]
        }
      ],
      "source": [
        "!apt-get -qq install -y libsm6 libxext6 libopencv-dev\n",
        "!apt-get install -y libopencv-dev"
      ]
    },
    {
      "cell_type": "code",
      "source": [
        "from google.colab import drive\n",
        "drive.mount('/content/drive')"
      ],
      "metadata": {
        "colab": {
          "base_uri": "https://localhost:8080/"
        },
        "id": "_imyv9VMko8U",
        "outputId": "5895e2a7-f0e1-43fd-f453-1b16d2a50413"
      },
      "execution_count": 2,
      "outputs": [
        {
          "output_type": "stream",
          "name": "stdout",
          "text": [
            "Drive already mounted at /content/drive; to attempt to forcibly remount, call drive.mount(\"/content/drive\", force_remount=True).\n"
          ]
        }
      ]
    },
    {
      "cell_type": "code",
      "source": [
        "%%writefile luminance.cu\n",
        "\n",
        "#include <stdio.h>\n",
        "#include <opencv2/opencv.hpp>\n",
        "\n",
        "__global__ void computeLuminance( unsigned char* input, float* output, int width, int height ){\n",
        "\n",
        "    int x = blockIdx.x * blockDim.x + threadIdx.x;\n",
        "    int y = blockIdx.y * blockDim.y + threadIdx.y;\n",
        "\n",
        "    if ( x < width && y < height ) {\n",
        "        int index = y * width + x;\n",
        "        unsigned char r = input[ 3 * index ];\n",
        "        unsigned char g = input[ 3 * index + 1 ];\n",
        "        unsigned char b = input[ 3 * index + 2 ];\n",
        "        output[ index ] = 0.299f * r + 0.587f * g + 0.114f * b;\n",
        "    }\n",
        "}\n",
        "\n",
        "int main() {\n",
        "    cv::Mat img = cv::imread( \"/content/drive/MyDrive/images/bright_color_photo.png\", cv::IMREAD_COLOR );\n",
        "    if ( img.empty() ) {\n",
        "        printf( \"Failed to open image\\n\" );\n",
        "        return -1;\n",
        "    }\n",
        "\n",
        "    unsigned char* d_input;\n",
        "    float* d_output;\n",
        "    int imageSize = img.rows * img.cols * img.channels();\n",
        "    int outputSize = img.rows * img.cols;\n",
        "\n",
        "    cudaMalloc( &d_input, imageSize );\n",
        "    cudaMalloc( &d_output, outputSize * sizeof( float ));\n",
        "\n",
        "    cudaMemcpy( d_input, img.data, imageSize, cudaMemcpyHostToDevice );\n",
        "\n",
        "    dim3 threadsPerBlock(16, 16);\n",
        "    dim3 numBlocks((img.cols + threadsPerBlock.x - 1) / threadsPerBlock.x,\n",
        "               (img.rows + threadsPerBlock.y - 1) / threadsPerBlock.y);\n",
        "\n",
        "\n",
        "    computeLuminance<<<numBlocks, threadsPerBlock>>>(d_input, d_output, img.cols, img.rows);\n",
        "\n",
        "\n",
        "    float* luminance = new float[ outputSize ];\n",
        "    cudaMemcpy( luminance, d_output, outputSize * sizeof( float ), cudaMemcpyDeviceToHost );\n",
        "\n",
        "    // You can now use the 'luminance' array. For instance, print some values:\n",
        "    for ( int i = 0; i < 10; i ++ ) {\n",
        "        printf( \"%f\\n\", luminance[i] );\n",
        "    }\n",
        "\n",
        "    delete[] luminance;\n",
        "    cudaFree( d_input );\n",
        "    cudaFree( d_output );\n",
        "\n",
        "    return 0;\n",
        "\n",
        "}"
      ],
      "metadata": {
        "colab": {
          "base_uri": "https://localhost:8080/"
        },
        "id": "InAV2bStlfi3",
        "outputId": "03ca5f3d-1fc2-42af-bc6c-8d7387931204"
      },
      "execution_count": 8,
      "outputs": [
        {
          "output_type": "stream",
          "name": "stdout",
          "text": [
            "Overwriting luminance.cu\n"
          ]
        }
      ]
    },
    {
      "cell_type": "code",
      "source": [
        "!nvcc -o luminance luminance.cu -I/usr/include/opencv4 -lopencv_core -lopencv_imgcodecs -lopencv_imgproc"
      ],
      "metadata": {
        "colab": {
          "base_uri": "https://localhost:8080/"
        },
        "id": "o9HieBe4qcp_",
        "outputId": "1818d331-58c4-4e53-cc41-dc3d64d3a035"
      },
      "execution_count": 9,
      "outputs": [
        {
          "output_type": "stream",
          "name": "stdout",
          "text": [
            "\u001b[01m\u001b[0m\u001b[01m/usr/include/opencv4/opencv2/stitching/detail/warpers.hpp(235)\u001b[0m: \u001b[01;35mwarning\u001b[0m #611-D: overloaded virtual function \u001b[01m\"cv::detail::PlaneWarper::buildMaps\"\u001b[0m is only partially overridden in class \u001b[01m\"cv::detail::AffineWarper\"\u001b[0m\n",
            "\n",
            "\u001b[01m\u001b[0m\u001b[01m/usr/include/opencv4/opencv2/stitching/detail/warpers.hpp(235)\u001b[0m: \u001b[01;35mwarning\u001b[0m #611-D: overloaded virtual function \u001b[01m\"cv::detail::PlaneWarper::warp\"\u001b[0m is only partially overridden in class \u001b[01m\"cv::detail::AffineWarper\"\u001b[0m\n",
            "\n",
            "\u001b[01m\u001b[0m\u001b[01m/usr/include/opencv4/opencv2/stitching/detail/blenders.hpp(100)\u001b[0m: \u001b[01;35mwarning\u001b[0m #611-D: overloaded virtual function \u001b[01m\"cv::detail::Blender::prepare\"\u001b[0m is only partially overridden in class \u001b[01m\"cv::detail::FeatherBlender\"\u001b[0m\n",
            "\n",
            "\u001b[01m\u001b[0m\u001b[01m/usr/include/opencv4/opencv2/stitching/detail/blenders.hpp(127)\u001b[0m: \u001b[01;35mwarning\u001b[0m #611-D: overloaded virtual function \u001b[01m\"cv::detail::Blender::prepare\"\u001b[0m is only partially overridden in class \u001b[01m\"cv::detail::MultiBandBlender\"\u001b[0m\n",
            "\n",
            "\u001b[01m\u001b[0m\u001b[01m/usr/include/opencv4/opencv2/stitching/detail/warpers.hpp(235)\u001b[0m: \u001b[01;35mwarning\u001b[0m #611-D: overloaded virtual function \u001b[01m\"cv::detail::PlaneWarper::buildMaps\"\u001b[0m is only partially overridden in class \u001b[01m\"cv::detail::AffineWarper\"\u001b[0m\n",
            "\n",
            "\u001b[01m\u001b[0m\u001b[01m/usr/include/opencv4/opencv2/stitching/detail/warpers.hpp(235)\u001b[0m: \u001b[01;35mwarning\u001b[0m #611-D: overloaded virtual function \u001b[01m\"cv::detail::PlaneWarper::warp\"\u001b[0m is only partially overridden in class \u001b[01m\"cv::detail::AffineWarper\"\u001b[0m\n",
            "\n",
            "\u001b[01m\u001b[0m\u001b[01m/usr/include/opencv4/opencv2/stitching/detail/blenders.hpp(100)\u001b[0m: \u001b[01;35mwarning\u001b[0m #611-D: overloaded virtual function \u001b[01m\"cv::detail::Blender::prepare\"\u001b[0m is only partially overridden in class \u001b[01m\"cv::detail::FeatherBlender\"\u001b[0m\n",
            "\n",
            "\u001b[01m\u001b[0m\u001b[01m/usr/include/opencv4/opencv2/stitching/detail/blenders.hpp(127)\u001b[0m: \u001b[01;35mwarning\u001b[0m #611-D: overloaded virtual function \u001b[01m\"cv::detail::Blender::prepare\"\u001b[0m is only partially overridden in class \u001b[01m\"cv::detail::MultiBandBlender\"\u001b[0m\n",
            "\n"
          ]
        }
      ]
    },
    {
      "cell_type": "code",
      "source": [
        "!./luminance"
      ],
      "metadata": {
        "colab": {
          "base_uri": "https://localhost:8080/"
        },
        "id": "k0lJm_IcqiK-",
        "outputId": "302e5501-e042-42b0-d731-4fed7ddced85"
      },
      "execution_count": 10,
      "outputs": [
        {
          "output_type": "stream",
          "name": "stdout",
          "text": [
            "0.000000\n",
            "0.000000\n",
            "0.000000\n",
            "0.000000\n",
            "0.000000\n",
            "0.000000\n",
            "0.000000\n",
            "0.000000\n",
            "0.000000\n",
            "0.000000\n"
          ]
        }
      ]
    },
    {
      "cell_type": "code",
      "source": [
        "!ls"
      ],
      "metadata": {
        "colab": {
          "base_uri": "https://localhost:8080/"
        },
        "id": "aKq5pomY5gpq",
        "outputId": "630ed1ad-534c-4d9f-f645-b454fd4f13a4"
      },
      "execution_count": 11,
      "outputs": [
        {
          "output_type": "stream",
          "name": "stdout",
          "text": [
            " drive\t     luminance.cu       sample_data\n",
            " luminance   luminance.curdir  'Screenshot 2023-08-01 at 5.56.57 PM.png'\n"
          ]
        }
      ]
    },
    {
      "cell_type": "code",
      "source": [
        "!ls luminance.cu"
      ],
      "metadata": {
        "colab": {
          "base_uri": "https://localhost:8080/"
        },
        "id": "_9oG2yMp53bC",
        "outputId": "d5c3e762-726a-456d-d2c3-131bec1de925"
      },
      "execution_count": 12,
      "outputs": [
        {
          "output_type": "stream",
          "name": "stdout",
          "text": [
            "luminance.curdir\n"
          ]
        }
      ]
    },
    {
      "cell_type": "code",
      "source": [],
      "metadata": {
        "id": "RqeBGSM356TL"
      },
      "execution_count": null,
      "outputs": []
    }
  ]
}