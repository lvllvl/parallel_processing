{
  "nbformat": 4,
  "nbformat_minor": 0,
  "metadata": {
    "colab": {
      "provenance": [],
      "authorship_tag": "ABX9TyMoIzYXwjXz/XH8zidcnQB6",
      "include_colab_link": true
    },
    "kernelspec": {
      "name": "python3",
      "display_name": "Python 3"
    },
    "language_info": {
      "name": "python"
    }
  },
  "cells": [
    {
      "cell_type": "markdown",
      "metadata": {
        "id": "view-in-github",
        "colab_type": "text"
      },
      "source": [
        "<a href=\"https://colab.research.google.com/github/lvllvl/parallel_processing/blob/main/color_2_grayscale_convert.ipynb\" target=\"_parent\"><img src=\"https://colab.research.google.com/assets/colab-badge.svg\" alt=\"Open In Colab\"/></a>"
      ]
    },
    {
      "cell_type": "code",
      "source": [
        "__global__\n",
        "void color_to_grayscale_Conversion( unsigned char * Pout, unsigned char * Pin, int width, int height ) {\n",
        "    int col = blockIdx.x * blockDim.x + threadIdx.x;\n",
        "    int row = blockIdx.y blockDim.y + threadIdx.y;\n",
        "\n",
        "    if ( col < width && row < height ) {\n",
        "        // Get ID offset for the grayscale image\n",
        "        int grayOffset = row * width + col;\n",
        "\n",
        "        // one can think of the RGB image having CHANNEL\n",
        "        // times more columns than the gray scale image\n",
        "\n",
        "        int rgbOffset = grayOffset * CHANNEL;\n",
        "        unsigned char r = Pin[ rgbOffset ]; // red value\n",
        "        unsigned char g = Pin[ rgbOffset + 1 ]; // Green value\n",
        "        unsigned char b = Pin[ rgbOffset + 2 ]; // Blue value\n",
        "\n",
        "        // Perform the recalling and store it\n",
        "        // we multiply it by floating point constants\n",
        "        Pout[ grayOffset ] = 0.21f * r + 0.71f * g + 0.07f * b;\n",
        "    }\n",
        "}"
      ],
      "metadata": {
        "id": "ZejKQUYzfC9u"
      },
      "execution_count": null,
      "outputs": []
    }
  ]
}