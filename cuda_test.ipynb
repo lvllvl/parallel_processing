{
  "nbformat": 4,
  "nbformat_minor": 0,
  "metadata": {
    "colab": {
      "provenance": [],
      "authorship_tag": "ABX9TyMzDNULxF4EEMxQoe7sDaW6",
      "include_colab_link": true
    },
    "kernelspec": {
      "name": "python3",
      "display_name": "Python 3"
    },
    "language_info": {
      "name": "python"
    }
  },
  "cells": [
    {
      "cell_type": "markdown",
      "metadata": {
        "id": "view-in-github",
        "colab_type": "text"
      },
      "source": [
        "<a href=\"https://colab.research.google.com/github/lvllvl/parallel_processing/blob/main/cuda_test.ipynb\" target=\"_parent\"><img src=\"https://colab.research.google.com/assets/colab-badge.svg\" alt=\"Open In Colab\"/></a>"
      ]
    },
    {
      "cell_type": "code",
      "execution_count": 1,
      "metadata": {
        "colab": {
          "base_uri": "https://localhost:8080/"
        },
        "id": "kmfGgewPJxi-",
        "outputId": "291a90fd-561b-45db-a433-2ba7a5b7e003"
      },
      "outputs": [
        {
          "output_type": "stream",
          "name": "stdout",
          "text": [
            "16 packages can be upgraded. Run 'apt list --upgradable' to see them.\n",
            "--2023-09-06 20:21:23--  https://developer.nvidia.com/compute/cuda/10.1/Prod/local_installers/cuda-repo-ubuntu1604-10-1-local-10.1.168-418.67_1.0-1_amd64.deb\n",
            "Resolving developer.nvidia.com (developer.nvidia.com)... 152.199.39.144\n",
            "Connecting to developer.nvidia.com (developer.nvidia.com)|152.199.39.144|:443... connected.\n",
            "HTTP request sent, awaiting response... 301 Moved Permanently\n",
            "Location: https://developer.nvidia.com/downloads/compute/cuda/10.1/Prod/local_installers/cuda-repo-ubuntu1604-10-1-local-10.1.168-418.67_1.0-1_amd64.deb [following]\n",
            "--2023-09-06 20:21:25--  https://developer.nvidia.com/downloads/compute/cuda/10.1/Prod/local_installers/cuda-repo-ubuntu1604-10-1-local-10.1.168-418.67_1.0-1_amd64.deb\n",
            "Reusing existing connection to developer.nvidia.com:443.\n",
            "HTTP request sent, awaiting response... 302 Found\n",
            "Location: https://developer.download.nvidia.com/compute/cuda/10.1/secure/Prod/local_installers/cuda-repo-ubuntu1604-10-1-local-10.1.168-418.67_1.0-1_amd64.deb?hbgOfxqw0V9w72_GCQCodNXtX8Og96D01M54H3xgUkflHJr_wUUqbz_Wx6BINMpkDdlNRZxrKGchzGhadk8kYSk3OTD4AvJ9yrFMX_IpbLio-B9E9k-gCmXY_jEP3vsOks6nvo9tK4Vz28bJi1BShQySDSPqVIIIs49yEiF66wIolWhF-7mLu2t65vaiFc-Cutr2Vwraotph4W6C9HCOuHGhEWDRys9SpvAVqjw= [following]\n",
            "--2023-09-06 20:21:26--  https://developer.download.nvidia.com/compute/cuda/10.1/secure/Prod/local_installers/cuda-repo-ubuntu1604-10-1-local-10.1.168-418.67_1.0-1_amd64.deb?hbgOfxqw0V9w72_GCQCodNXtX8Og96D01M54H3xgUkflHJr_wUUqbz_Wx6BINMpkDdlNRZxrKGchzGhadk8kYSk3OTD4AvJ9yrFMX_IpbLio-B9E9k-gCmXY_jEP3vsOks6nvo9tK4Vz28bJi1BShQySDSPqVIIIs49yEiF66wIolWhF-7mLu2t65vaiFc-Cutr2Vwraotph4W6C9HCOuHGhEWDRys9SpvAVqjw=\n",
            "Resolving developer.download.nvidia.com (developer.download.nvidia.com)... 152.199.39.144\n",
            "Connecting to developer.download.nvidia.com (developer.download.nvidia.com)|152.199.39.144|:443... connected.\n",
            "HTTP request sent, awaiting response... 200 OK\n",
            "Length: 1778832018 (1.7G) [application/x-deb]\n",
            "Saving to: ‘cuda-repo-ubuntu1604-10-1-local-10.1.168-418.67_1.0-1_amd64.deb’\n",
            "\n",
            "cuda-repo-ubuntu160 100%[===================>]   1.66G  27.5MB/s    in 63s     \n",
            "\n",
            "2023-09-06 20:22:29 (27.0 MB/s) - ‘cuda-repo-ubuntu1604-10-1-local-10.1.168-418.67_1.0-1_amd64.deb’ saved [1778832018/1778832018]\n",
            "\n",
            "Selecting previously unselected package cuda-repo-ubuntu1604-10-1-local-10.1.168-418.67.\n",
            "(Reading database ... 120901 files and directories currently installed.)\n",
            "Preparing to unpack cuda-repo-ubuntu1604-10-1-local-10.1.168-418.67_1.0-1_amd64.deb ...\n",
            "Unpacking cuda-repo-ubuntu1604-10-1-local-10.1.168-418.67 (1.0-1) ...\n",
            "Setting up cuda-repo-ubuntu1604-10-1-local-10.1.168-418.67 (1.0-1) ...\n",
            "\n",
            "The public CUDA GPG key does not appear to be installed.\n",
            "To install the key, run this command:\n",
            "sudo apt-key add /var/cuda-repo-10-1-local-10.1.168-418.67/7fa2af80.pub\n",
            "\n",
            "Warning: apt-key is deprecated. Manage keyring files in trusted.gpg.d instead (see apt-key(8)).\n",
            "OK\n",
            "W: file:/var/cuda-repo-10-1-local-10.1.168-418.67/Release.gpg: Key is stored in legacy trusted.gpg keyring (/etc/apt/trusted.gpg), see the DEPRECATION section in apt-key(8) for details.\n",
            "E: Unable to locate package gcc-5\n",
            "E: Package 'g++-5' has no installation candidate\n",
            "\u001b[1;31mE: \u001b[0mUnable to locate package cuda-10.1\u001b[0m\n",
            "\u001b[1;31mE: \u001b[0mCouldn't find any package by glob 'cuda-10.1'\u001b[0m\n"
          ]
        }
      ],
      "source": [
        "!apt update -qq;\n",
        "!wget https://developer.nvidia.com/compute/cuda/10.1/Prod/local_installers/cuda-repo-ubuntu1604-10-1-local-10.1.168-418.67_1.0-1_amd64.deb;\n",
        "!dpkg -i cuda-repo-ubuntu1604-10-1-local-10.1.168-418.67_1.0-1_amd64.deb;\n",
        "!apt-key add /var/cuda-repo-10-1-local-10.1.168-418.67/7fa2af80.pub;\n",
        "!apt-get update -qq;\n",
        "!apt-get install gcc-5 g++-5 -y -qq;\n",
        "!ln -s /usr/bin/gcc-5 /usr/local/cuda/bin/gcc;\n",
        "!ln -s /usr/bin/g++-5 /usr/local/cuda/bin/g++;\n",
        "!apt install cuda-10.1 -y -qq;\n"
      ]
    },
    {
      "cell_type": "code",
      "source": [
        "!nvcc --version"
      ],
      "metadata": {
        "colab": {
          "base_uri": "https://localhost:8080/"
        },
        "id": "wxf8ZNPyJ-Ox",
        "outputId": "fcf1ab1f-01d8-42db-8a06-de1ec8e073c6"
      },
      "execution_count": 2,
      "outputs": [
        {
          "output_type": "stream",
          "name": "stdout",
          "text": [
            "nvcc: NVIDIA (R) Cuda compiler driver\n",
            "Copyright (c) 2005-2022 NVIDIA Corporation\n",
            "Built on Wed_Sep_21_10:33:58_PDT_2022\n",
            "Cuda compilation tools, release 11.8, V11.8.89\n",
            "Build cuda_11.8.r11.8/compiler.31833905_0\n"
          ]
        }
      ]
    },
    {
      "cell_type": "code",
      "source": [
        "%%writefile vector_add.cu\n",
        "\n",
        "#include <stdio.h>\n",
        "#include <cuda_runtime.h>\n",
        "\n",
        "__global__ void add(int *a, int *b, int *c) {\n",
        "    *c = *a + *b;\n",
        "}\n",
        "\n",
        "int main() {\n",
        "    int a, b, c;          // host copies\n",
        "    int *d_a, *d_b, *d_c; // device copies\n",
        "\n",
        "    int size = sizeof(int);\n",
        "\n",
        "    // Allocate space for device copies\n",
        "    cudaMalloc((void **)&d_a, size);\n",
        "    cudaMalloc((void **)&d_b, size);\n",
        "    cudaMalloc((void **)&d_c, size);\n",
        "\n",
        "    // Setup input values\n",
        "    a = 2;\n",
        "    b = 7;\n",
        "\n",
        "    // Copy inputs to device\n",
        "    cudaMemcpy(d_a, &a, size, cudaMemcpyHostToDevice);\n",
        "    cudaMemcpy(d_b, &b, size, cudaMemcpyHostToDevice);\n",
        "\n",
        "    // Launch the kernel on the GPU\n",
        "    add<<<1,1>>>(d_a, d_b, d_c);\n",
        "\n",
        "    // Copy result back to host\n",
        "    cudaMemcpy(&c, d_c, size, cudaMemcpyDeviceToHost);\n",
        "\n",
        "    // Cleanup\n",
        "    cudaFree(d_a);\n",
        "    cudaFree(d_b);\n",
        "    cudaFree(d_c);\n",
        "\n",
        "    printf(\"Result: %d + %d = %d\\n\", a, b, c);\n",
        "    return 0;\n",
        "}\n"
      ],
      "metadata": {
        "colab": {
          "base_uri": "https://localhost:8080/"
        },
        "id": "e0ON52QjKQ8p",
        "outputId": "9ffb9bcc-4e59-4215-c627-68ea0b5a2050"
      },
      "execution_count": 5,
      "outputs": [
        {
          "output_type": "stream",
          "name": "stdout",
          "text": [
            "Overwriting vector_add.cu\n"
          ]
        }
      ]
    },
    {
      "cell_type": "code",
      "source": [
        "!nvcc vector_add.cu -o vector_add\n",
        "!./vector_add"
      ],
      "metadata": {
        "colab": {
          "base_uri": "https://localhost:8080/"
        },
        "id": "M4iTKSPWMtXL",
        "outputId": "abd088ee-cda6-470e-86e9-8455ffca40a9"
      },
      "execution_count": 6,
      "outputs": [
        {
          "output_type": "stream",
          "name": "stdout",
          "text": [
            "Result: 2 + 7 = 1\n"
          ]
        }
      ]
    },
    {
      "cell_type": "code",
      "source": [],
      "metadata": {
        "id": "kZ29p9pNM4_l"
      },
      "execution_count": null,
      "outputs": []
    }
  ]
}